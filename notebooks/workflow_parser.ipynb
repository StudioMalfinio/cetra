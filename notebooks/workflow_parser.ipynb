{
 "cells": [
  {
   "cell_type": "code",
   "execution_count": null,
   "id": "19b57589",
   "metadata": {},
   "outputs": [],
   "source": [
    "from cetra import FlowParser, FlowConfig   \n",
    "print('✅ Import successful')                    \n",
    "# Test parsing                                  \n",
    "parser = FlowParser()                           \n",
    "flow = parser.load_flow('../resources/yaml_flow/0.yaml')                                       \n",
    "print(f'✅ Parsed flow with {len(flow.flow)} steps')                                         \n",
    "# Test that all exported classes are available \n",
    "from cetra import FlowParserError, FlowFileError, FlowValidationError\n",
    "from cetra import FlowStep, ToolCall,FlowAction, ToolParameter, ToolOutput\n",
    "print('✅ All classes imported successfully') "
   ]
  },
  {
   "cell_type": "code",
   "execution_count": null,
   "id": "7604ef2f",
   "metadata": {},
   "outputs": [],
   "source": [
    "flow.flow[0].prompt"
   ]
  },
  {
   "cell_type": "code",
   "execution_count": null,
   "id": "421ddde6",
   "metadata": {},
   "outputs": [],
   "source": [
    "flow.flow"
   ]
  },
  {
   "cell_type": "code",
   "execution_count": null,
   "id": "ed195494",
   "metadata": {},
   "outputs": [],
   "source": []
  }
 ],
 "metadata": {
  "kernelspec": {
   "display_name": "cetra",
   "language": "python",
   "name": "python3"
  },
  "language_info": {
   "codemirror_mode": {
    "name": "ipython",
    "version": 3
   },
   "file_extension": ".py",
   "mimetype": "text/x-python",
   "name": "python",
   "nbconvert_exporter": "python",
   "pygments_lexer": "ipython3",
   "version": "3.13.4"
  }
 },
 "nbformat": 4,
 "nbformat_minor": 5
}
